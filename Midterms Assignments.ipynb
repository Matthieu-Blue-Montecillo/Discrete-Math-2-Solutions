\documentclass[a4]{article}
\usepackage{LJMU-API}
\input{LJMU-API-header}

%edit these to suit:
\myname{Matthieu Blue D. Montecillo}
\mycourse{1203 - Discrete Math 2}


%then do your stuff after the \begin{document} command

\begin{document}

\textbf{Task 1:}\\Question 1:  To find the expected value $E[Y_i]$, we need to sum over all possible values of $Y_i$ weighted by their probabilities.

Given the joint probability distribution $P(y)$, we have:
$E[Y_i] = \sum_{y_i} y_i \cdot P(Y_i = y_i)$

Substitute the joint probability distribution $P(y)$ into the formula:
$E[Y_i] = \sum_{y_i} y_i \cdot \frac{n!}{y_1!y_2!...y_k!} p_1^{y_1} p_2^{y_2} ... p_k^{y_k}$

Since $Y_i$ equals the number of trials for which the outcome falls into cell $i$, we have $Y_i = y_i$.

Therefore, $E[Y_i] = \sum_{y_i} y_i \cdot \frac{n!}{y_1!y_2!...y_k!} p_1^{y_1} p_2^{y_2} ... p_k^{y_k}$

Since $Y_i = y_i$, we can simplify the expression to:
$E[Y_i] = \sum_{y_i} y_i \cdot \frac{n!}{y_i!(n-y_i)!} p_i^{y_i} (1-p_i)^{n-y_i}$

Now, we can simplify the expression further by recognizing that this is the probability mass function of a binomial distribution with parameters $n$ and $p_i$:
$E[Y_i] = n \cdot p_i$

Therefore, the expected value $E[Y_i] = n \cdot p_i$.


Question 2: To find the probability that the sample contains 100 persons between 18-24, 200 between 25-34, and 200 between 45-64, we need to multiply the proportions for each age group together.

The probability of selecting 100 persons between 18-24 is $0.18^{100}$.
The probability of selecting 200 persons between 25-34 is $0.23^{200}$.
The probability of selecting 200 persons between 45-64 is $0.27^{200}$.

Therefore, the probability of this specific sample is $0.18^{100} \times 0.23^{200} \times 0.27^{200}$.

To find the expected value to obtain a person in the 65 and above age group, we need to multiply the proportion of that age group by the total number of samples:
Expected value = $0.16 \times 500 = 80$.\\\\


\textbf{Task 2:}\\
Question 1:
The probability distribution of the experiment can be derived using the binomial distribution formula:
\[ P(Y=y) = \binom{n}{y} p^{y} q^{n-y} \]
where $y$ is the number of successes observed during the $n$ trials.

Question 2:
The expectation of the probability distribution is calculated as:
\begin{align*}
E[Y] &= \sum_{y=0}^{n} y \cdot P(Y=y) \\
&= \sum_{y=0}^{n} y \cdot \binom{n}{y} p^{y} q^{n-y} \\
&= \sum_{y=0}^{n} y \cdot \frac{n!}{y!(n-y)!} p^{y} q^{n-y} \\
&= \sum_{y=0}^{n} n \cdot \frac{(n-1)!}{(y-1)!(n-y)!} p^{y} q^{n-y} \\
&= np \sum_{y=0}^{n} \binom{n-1}{y-1} p^{y-1} q^{n-y} \\
&= np \sum_{k=0}^{n-1} \binom{n-1}{k} p^{k} q^{n-1-k} \\
&= np(p+q)^{n-1} \\
&= np
\end{align*}

Question 3:
Given that the medication is worthless, the probability of success ($p$) is actually 0.3. The probability of at least nine out of ten recovering is:
\[ P(Y \geq 9) = P(Y=9) + P(Y=10) = \binom{10}{9} (0.3)^{9} (0.7)^{1} + \binom{10}{10} (0.3)^{10} (0.7)^{0} \]

Question 4:
The probability of observing at least one defective fuse in a sample of 5 can be calculated as the complement of the probability of observing zero defective fuses:
\begin{align*}
P(\text{at least one defective}) &= 1 - P(\text{no defective}) \\
&= 1 - \binom{5}{0} (0.05)^{0} (0.95)^{5}
\end{align*}\\\\\\\\\\\\\\\\\\\\\\\\\\\\\\\\\\

\textbf{Task 3:} \\Question 1:
The expected value of the distribution is given by:
\begin{align*}
E(y) &= \sum_{y=0}^{\infty} y \cdot p(y) \\
&= \sum_{y=0}^{\infty} y \cdot \frac{\lambda^{y}}{y!} e^{-\lambda} \\
&= \sum_{y=1}^{\infty} \frac{\lambda^{y}}{(y-1)!} e^{-\lambda} \\
&= e^{-\lambda} \sum_{y=1}^{\infty} \frac{\lambda^{y}}{(y-1)!} \\
&= e^{-\lambda} \lambda \sum_{y=1}^{\infty} \frac{\lambda^{y-1}}{(y-1)!} \\
&= e^{-\lambda} \lambda \sum_{k=0}^{\infty} \frac{\lambda^{k}}{k!} \\
&= e^{-\lambda} \lambda e^{\lambda} \\
&= \lambda
\end{align*}

Therefore, the general formula for the expected value of this distribution is $E(y) = \lambda$.

Question 2:
The probability that a region does not contain any seedlings is $p(0) = \frac{\lambda^{0}}{0!} e^{-\lambda} = e^{-\lambda}$.
The probability that none of the ten regions contain seedlings is $(e^{-\lambda})^{10} = e^{-10\lambda}$.

Given that the mean density of seedlings is five per square yard, $\lambda = 5$.
Therefore, the probability that none of the regions will contain seedlings is $e^{-10 \times 5} = e^{-50}$.

\end{document}
